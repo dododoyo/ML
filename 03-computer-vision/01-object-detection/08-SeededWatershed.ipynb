{
 "cells": [
  {
   "cell_type": "markdown",
   "metadata": {},
   "source": [
    "### Seeded Watershed "
   ]
  },
  {
   "cell_type": "markdown",
   "metadata": {},
   "source": [
    "#### Import Libraries "
   ]
  },
  {
   "cell_type": "code",
   "execution_count": 11,
   "metadata": {},
   "outputs": [],
   "source": [
    "import numpy as np \n",
    "import cv2 as cv "
   ]
  },
  {
   "cell_type": "code",
   "execution_count": 12,
   "metadata": {},
   "outputs": [],
   "source": [
    "\n",
    "import matplotlib.pyplot as plt"
   ]
  },
  {
   "cell_type": "markdown",
   "metadata": {},
   "source": [
    "- Imoport Images "
   ]
  },
  {
   "cell_type": "code",
   "execution_count": 13,
   "metadata": {},
   "outputs": [],
   "source": [
    "road_image = cv.imread('../data/Files/DATA/road_image.jpg')\n",
    "road_copy = road_image.copy()"
   ]
  },
  {
   "cell_type": "code",
   "execution_count": 14,
   "metadata": {},
   "outputs": [],
   "source": [
    "marker_image = np.zeros(shape=road_image.shape[:2],dtype=np.int32 )\n"
   ]
  },
  {
   "cell_type": "code",
   "execution_count": 15,
   "metadata": {},
   "outputs": [],
   "source": [
    "segments = np.zeros(shape=road_image.shape,dtype=np.uint8)"
   ]
  },
  {
   "cell_type": "code",
   "execution_count": 16,
   "metadata": {},
   "outputs": [],
   "source": [
    "from matplotlib import cm\n",
    "\n",
    "\n",
    "def create_rgb(i):\n",
    "    x = np.array(cm.tab10(i))[:3]*255\n",
    "    return tuple(x)"
   ]
  },
  {
   "cell_type": "code",
   "execution_count": 17,
   "metadata": {},
   "outputs": [],
   "source": [
    "colors = [create_rgb(i) for i in range(10)]"
   ]
  },
  {
   "cell_type": "markdown",
   "metadata": {},
   "source": [
    "- Global Variable "
   ]
  },
  {
   "cell_type": "code",
   "execution_count": 18,
   "metadata": {},
   "outputs": [],
   "source": [
    "current_marker = 1\n",
    "marks_updated = False"
   ]
  },
  {
   "cell_type": "markdown",
   "metadata": {},
   "source": [
    "- Callback Function"
   ]
  },
  {
   "cell_type": "code",
   "execution_count": 19,
   "metadata": {},
   "outputs": [],
   "source": [
    "def mouse_callback(event,x,y,flags,parameter):\n",
    "  global marks_updated\n",
    "  coordinates = (x,y)\n",
    "\n",
    "  if event == cv.EVENT_LBUTTONDOWN:\n",
    "    # person is clicking and trying to draw a circle \n",
    "\n",
    "    # we will draw two circles \n",
    "      # one for the watershed algorithm \n",
    "    cv.circle(img=marker_image,center=coordinates,radius=10,color=(current_marker),thickness=-1)\n",
    "      # other to show for the user \n",
    "    cv.circle(img=road_copy,center=coordinates,radius=10,color=colors[current_marker],thickness=-1)\n",
    "\n",
    "    marks_updated = True\n",
    "\n"
   ]
  },
  {
   "cell_type": "markdown",
   "metadata": {},
   "source": [
    "- Running Program"
   ]
  },
  {
   "cell_type": "code",
   "execution_count": 20,
   "metadata": {},
   "outputs": [],
   "source": [
    "cv.namedWindow('Road Image')\n",
    "cv.setMouseCallback(window_name='Road Image',on_mouse=mouse_callback)\n",
    "\n",
    "\n",
    "\n",
    "while True:\n",
    "  cv.imshow('Watershed Segments',segments)\n",
    "  cv.imshow('Road Image',road_copy)\n",
    "\n",
    "  k = cv.waitKey(1)\n",
    "\n",
    "  # if the esc (escape key) is entered the program will leave\n",
    "  if k == 27:\n",
    "    cv.destroyAllWindows()\n",
    "    break\n",
    "\n",
    "  \n",
    "  # clear all colors when 'c' key is pressed \n",
    "  elif k == ord('c'):\n",
    "    road_copy = road_image.copy()\n",
    "\n",
    "    marker_image = np.zeros(shape=road_image.shape[:2], dtype=np.int32)\n",
    "    segments = np.zeros(shape=road_image.shape, dtype=np.uint8)\n",
    "\n",
    "  # update color choice \n",
    "  # handle user selection of color from keys\n",
    "  elif k > 0 and chr(k).isdigit():\n",
    "    current_marker = int(chr(k))\n",
    "\n",
    "\n",
    "  if marks_updated:\n",
    "    marker_image_copy = marker_image.copy()\n",
    "    cv.watershed(road_image,marker_image_copy)\n",
    "\n",
    "    segments = np.zeros(shape=road_image.shape, dtype=np.uint8)\n",
    "\n",
    "    for i in range(10):\n",
    "      # color the segments \n",
    "      segments[marker_image_copy == (i)] = colors[i]\n",
    "\n",
    "# plugin: Could not find the Qt platform plugin \"wayland\" in \"/home/~/Documents/ML/.venv/lib/python3.10/site-packages/cv2/qt/plugins\"\n",
    "    "
   ]
  }
 ],
 "metadata": {
  "kernelspec": {
   "display_name": ".venv",
   "language": "python",
   "name": "python3"
  },
  "language_info": {
   "codemirror_mode": {
    "name": "ipython",
    "version": 3
   },
   "file_extension": ".py",
   "mimetype": "text/x-python",
   "name": "python",
   "nbconvert_exporter": "python",
   "pygments_lexer": "ipython3",
   "version": "3.10.12"
  }
 },
 "nbformat": 4,
 "nbformat_minor": 2
}
