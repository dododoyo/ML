{
 "cells": [
  {
   "cell_type": "markdown",
   "metadata": {},
   "source": [
    "### Optical Flow "
   ]
  },
  {
   "cell_type": "markdown",
   "metadata": {},
   "source": [
    "- Import esential libraries "
   ]
  },
  {
   "cell_type": "code",
   "execution_count": 24,
   "metadata": {},
   "outputs": [],
   "source": [
    "import numpy as np \n",
    "import cv2 as cv "
   ]
  },
  {
   "cell_type": "code",
   "execution_count": 27,
   "metadata": {},
   "outputs": [],
   "source": [
    "corner_track_params = dict(maxCorners=15,qualityLevel=0.3,minDistance=7,blockSize=7)\n",
    "lk_params = dict(winSize=(200,200),maxLevel=2,criteria=(cv.TERM_CRITERIA_EPS | cv.TERM_CRITERIA_COUNT,10,0.03))"
   ]
  },
  {
   "cell_type": "markdown",
   "metadata": {},
   "source": [
    "The `corner_track_params` dictionary contains parameters for the cv.goodFeaturesToTrack function, which is used to detect good features (corners) to track in an image. The parameters are:\n",
    "\n",
    "- maxCorners=10: This specifies the maximum number of corners to return. If there are more corners than this, only the strongest ones are returned.\n",
    "- qualityLevel=0.3: This parameter characterizes the minimal accepted quality of image corners. It is a value between 0 and 1, where a higher value means only the best corners are selected.\n",
    "- minDistance=7: This is the minimum possible Euclidean distance between the returned corners. It ensures that the detected corners are spaced out by at least this distance.\n",
    "- blockSize=7: This size of the block used for computing the covariance matrix of derivatives at each pixel neighborhood.\n",
    "\n",
    "The `lk_params` dictionary contains parameters for the cv.calcOpticalFlowPyrLK function, which implements the Lucas-Kanade method for calculating optical flow. \n",
    "\n",
    "The parameters are:\n",
    "- winSize=(200,200): This specifies the size of the search window at each pyramid level. A larger window size can capture larger movements but may be slower and less accurate for small movements.\n",
    "- maxLevel=2: This indicates the number of pyramid levels, including the initial image. A higher number allows for capturing larger movements but increases computational complexity.\n",
    "- criteria=(cv.TERM_CRITERIA_EPS | cv.TERM_CRITERIA_COUNT,10,0.03): This is the termination criteria of the iterative search algorithm. It can terminate either after a certain number of iterations (cv.TERM_CRITERIA_COUNT) or when the search window moves by less than a certain amount (cv.TERM_CRITERIA_EPS). Here, it will stop after 10 iterations or when the search window moves by less than 0.03 pixels."
   ]
  },
  {
   "cell_type": "code",
   "execution_count": 29,
   "metadata": {},
   "outputs": [],
   "source": [
    "cap = cv.VideoCapture(0)\n",
    "ret,previous_frame = cap.read()\n",
    "\n",
    "previous_gray = cv.cvtColor(src=previous_frame,code=cv.COLOR_BGR2GRAY)\n",
    "\n",
    "# ASSIGN POINTS TO TRACK\n",
    "previous_points = cv.goodFeaturesToTrack(image=previous_gray,mask=None,**corner_track_params)\n",
    "\n",
    "drawing_mask = np.zeros_like(previous_frame)\n",
    "\n",
    "while True:\n",
    "  ret,current_frame = cap.read()\n",
    "  current_gray = cv.cvtColor(current_frame,cv.COLOR_BGR2GRAY)\n",
    "\n",
    "  next_points, status,error = cv.calcOpticalFlowPyrLK(prevImg=previous_gray,nextImg=current_gray,prevPts=previous_points,nextPts=None,**lk_params)\n",
    "\n",
    "  current_tracked_features = next_points[status == 1]\n",
    "  previous_tracked_features = previous_points[status == 1]\n",
    "\n",
    "  for i, (new, old) in enumerate(zip(current_tracked_features, previous_tracked_features)):\n",
    "      x_new, y_new = new.ravel()\n",
    "      x_old, y_old = old.ravel()\n",
    "      pt1 = (int(x_new), int(y_new))\n",
    "      pt2 = (int(x_old), int(y_old))\n",
    "      drawing_mask = cv.line(img=drawing_mask, pt1=pt1, pt2=pt2, color=(0, 255, 0), thickness=2)\n",
    "      current_frame = cv.circle(current_frame, center=pt1, radius=5, color=(0, 0, 255), thickness=-1)\n",
    "\n",
    "  img = cv.add(current_frame, drawing_mask)\n",
    "  cv.imshow('Track', img)\n",
    "\n",
    "  k = cv.waitKey(30) & 0xFF\n",
    "  if k == 27:\n",
    "      break\n",
    "  \n",
    "  previous_gray = current_gray.copy()\n",
    "  previous_points = current_tracked_features.reshape(-1, 1, 2)\n",
    "\n",
    "\n",
    "cap.release()\n",
    "cv.destroyAllWindows()"
   ]
  },
  {
   "cell_type": "markdown",
   "metadata": {},
   "source": [
    "### Step-by-Step Explanation\n",
    "\n",
    "1. **Start the Loop**:\n",
    "   - `while True:` starts an infinite loop that will keep running until we explicitly break out of it.\n",
    "\n",
    "2. **Capture a Frame**:\n",
    "   - `ret, current_frame = cap.read()`: This line captures a frame from the video feed. `cap.read()` returns two values: `ret` (a boolean indicating if the frame was captured successfully) and `current_frame` (the captured frame).\n",
    "\n",
    "3. **Convert to Grayscale**:\n",
    "   - `current_gray = cv.cvtColor(current_frame, cv.COLOR_BGR2GRAY)`: This line converts the captured frame to a grayscale image. Optical flow algorithms work better with grayscale images.\n",
    "\n",
    "4. **Calculate Optical Flow**:\n",
    "   - `next_points, status, error = cv.calcOpticalFlowPyrLK(prevImg=previous_gray, nextImg=current_gray, prevPts=previous_points, nextPts=None, **lk_params)`: This line calculates the optical flow using the Lucas-Kanade method. It tracks the movement of points from the previous frame (`previous_gray`) to the current frame (`current_gray`). It returns:\n",
    "     - `next_points`: The new positions of the tracked points.\n",
    "     - `status`: An array indicating whether the points were successfully tracked.\n",
    "     - `error`: An array of errors for the tracked points.\n",
    "\n",
    "5. **Filter Tracked Points**:\n",
    "   - `current_tracked_features = next_points[status == 1]`: This line keeps only the points that were successfully tracked in the current frame.\n",
    "   - `previous_tracked_features = previous_points[status == 1]`: This line keeps only the points that were successfully tracked in the previous frame.\n",
    "\n",
    "6. **Draw Lines and Circles**:\n",
    "   - `for i, (new, old) in enumerate(zip(current_tracked_features, previous_tracked_features)):`: This loop iterates over pairs of new and old points.\n",
    "     - `x_new, y_new = new.ravel()`: Extracts the x and y coordinates of the new point.\n",
    "     - `x_old, y_old = old.ravel()`: Extracts the x and y coordinates of the old point.\n",
    "     - `pt1 = (int(x_new), int(y_new))`: Creates a tuple for the new point.\n",
    "     - `pt2 = (int(x_old), int(y_old))`: Creates a tuple for the old point.\n",
    "     - `drawing_mask = cv.line(img=drawing_mask, pt1=pt1, pt2=pt2, color=(0, 255, 0), thickness=2)`: Draws a green line on the `drawing_mask` from the old point to the new point.\n",
    "     - `current_frame = cv.circle(current_frame, center=pt1, radius=5, color=(0, 0, 255), thickness=-1)`: Draws a red circle on the current frame at the new point.\n",
    "\n",
    "7. **Combine and Display the Image**:\n",
    "   - `img = cv.add(current_frame, drawing_mask)`: Combines the current frame and the drawing mask to create the final image.\n",
    "   - \n",
    "\n",
    "cv.imshow('Track', img)\n",
    "\n",
    ": Displays the final image in a window named 'Track'.\n",
    "\n",
    "8. **Check for Exit Key**:\n",
    "   - `k = cv.waitKey(30) & 0xFF`: Waits for 30 milliseconds for a key press. The `& 0xFF` ensures we get the correct key code.\n",
    "   - `if k == 27:`: Checks if the 'Esc' key (ASCII code 27) was pressed. If so, it breaks out of the loop.\n",
    "\n",
    "9. **Update Previous Frame and Points**:\n",
    "   - `previous_gray = current_gray.copy()`: Updates the previous frame to be the current frame.\n",
    "   - `previous_points = current_tracked_features.reshape(-1, 1, 2)`: Updates the previous points to be the current tracked points.\n",
    "\n",
    "10. **Release Resources**:\n",
    "    - `cap.release()`: Releases the video capture object.\n",
    "    - \n",
    "\n",
    "cv.destroyAllWindows()\n",
    "\n",
    ": Closes all OpenCV windows.\n",
    "\n",
    "This loop continuously captures frames from the video, tracks the movement of points, draws lines and circles to show the movement, and displays the result until the 'Esc' key is pressed."
   ]
  }
 ],
 "metadata": {
  "kernelspec": {
   "display_name": ".venv",
   "language": "python",
   "name": "python3"
  },
  "language_info": {
   "codemirror_mode": {
    "name": "ipython",
    "version": 3
   },
   "file_extension": ".py",
   "mimetype": "text/x-python",
   "name": "python",
   "nbconvert_exporter": "python",
   "pygments_lexer": "ipython3",
   "version": "3.10.12"
  }
 },
 "nbformat": 4,
 "nbformat_minor": 2
}
