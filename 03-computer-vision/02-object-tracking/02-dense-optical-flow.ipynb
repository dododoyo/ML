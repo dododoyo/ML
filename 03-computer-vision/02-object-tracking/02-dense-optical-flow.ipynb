{
 "cells": [
  {
   "cell_type": "markdown",
   "metadata": {},
   "source": [
    "# Dense Optical Flow in OpenCV\n",
    "\n",
    "calcOpticalFlowFarneback(prev, next, flow, pyr_scale, levels, winsize, iterations, poly_n, poly_sigma, flags) -> flow\n",
    "\n",
    "This function computes a dense optical flow using the Gunnar Farneback's algorithm.\n",
    "\n",
    "Here are the parameters for the function and what they represent:\n",
    "   \n",
    "* prev first 8-bit single-channel input image.\n",
    "* next second input image of the same size and the same type as prev.\n",
    "* flow computed flow image that has the same size as prev and type CV_32FC2.\n",
    "* pyr_scale parameter, specifying the image scale (\\<1) to build pyramids for each image\n",
    "    * pyr_scale=0.5 means a classical pyramid, where each next layer is twice smaller than the previous one.\n",
    "    \n",
    "* levels number of pyramid layers including the initial image; levels=1 means that no extra layers are created and only the original images are used.\n",
    "* winsize averaging window size\n",
    "    * larger values increase the algorithm robustness to image\n",
    "* noise and give more chances for fast motion detection, but yield more blurred motion field.\n",
    "* iterations number of iterations the algorithm does at each pyramid level.\n",
    "* poly_n size of the pixel neighborhood used to find polynomial expansion in each pixel\n",
    "    * larger values mean that the image will be approximated with smoother surfaces, yielding more robust algorithm and more blurred motion field, typically poly_n =5 or 7.\n",
    "* poly_sigma standard deviation of the Gaussian that is used to smooth derivatives used as a basis for the polynomial expansion; for poly_n=5, you can set poly_sigma=1.1, for poly_n=7, a good value would be poly_sigma=1.5."
   ]
  },
  {
   "cell_type": "code",
   "execution_count": 25,
   "metadata": {},
   "outputs": [],
   "source": [
    "import cv2 as cv \n",
    "import numpy as np "
   ]
  },
  {
   "cell_type": "code",
   "execution_count": 26,
   "metadata": {},
   "outputs": [],
   "source": [
    "cap = cv.VideoCapture(0)\n",
    "ret,frame1 = cap.read()\n",
    "previous_image = cv.cvtColor(frame1,cv.COLOR_BGR2GRAY)"
   ]
  },
  {
   "cell_type": "code",
   "execution_count": 27,
   "metadata": {},
   "outputs": [],
   "source": [
    "hsv_mask = np.zeros_like(frame1)\n",
    "hsv_mask[:,:,1] = 255 "
   ]
  },
  {
   "cell_type": "code",
   "execution_count": 28,
   "metadata": {},
   "outputs": [],
   "source": [
    "while True:\n",
    "  ret,new_frame = cap.read()\n",
    "  new_image = cv.cvtColor(new_frame,cv.COLOR_BGR2GRAY)\n",
    "\n",
    "  flow_detect = cv.calcOpticalFlowFarneback(previous_image,new_image,None,0.5,3,15,3,5,1.2,0)\n",
    "  \n",
    "  magnitude,angle  = cv.cartToPolar(flow_detect[:,:,0],flow_detect[:,:,1],angleInDegrees=True)\n",
    "\n",
    "  hsv_mask[:,:,0] = angle/2\n",
    "  hsv_mask[:,:,2] = cv.normalize(magnitude,None,0,255,cv.NORM_MINMAX)\n",
    "\n",
    "  bgr = cv.cvtColor(hsv_mask,cv.COLOR_HSV2BGR)\n",
    "  cv.imshow('Frame',bgr)\n",
    "\n",
    "  k = cv.waitKey(10) & 0xFF\n",
    "\n",
    "  if k == 27:\n",
    "    break \n",
    "\n",
    "  previous_image = new_image\n",
    "\n",
    "cap.release()\n",
    "cv.destroyAllWindows()\n"
   ]
  }
 ],
 "metadata": {
  "kernelspec": {
   "display_name": ".venv",
   "language": "python",
   "name": "python3"
  },
  "language_info": {
   "codemirror_mode": {
    "name": "ipython",
    "version": 3
   },
   "file_extension": ".py",
   "mimetype": "text/x-python",
   "name": "python",
   "nbconvert_exporter": "python",
   "pygments_lexer": "ipython3",
   "version": "3.10.12"
  }
 },
 "nbformat": 4,
 "nbformat_minor": 2
}
