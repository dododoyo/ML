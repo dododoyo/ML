{
 "cells": [
  {
   "cell_type": "markdown",
   "metadata": {},
   "source": [
    "### MeanShift Tracking\n"
   ]
  },
  {
   "cell_type": "code",
   "execution_count": 3,
   "metadata": {},
   "outputs": [],
   "source": [
    "import cv2 as cv \n",
    "import numpy as np "
   ]
  },
  {
   "cell_type": "code",
   "execution_count": 4,
   "metadata": {},
   "outputs": [
    {
     "name": "stderr",
     "output_type": "stream",
     "text": [
      "qt.qpa.plugin: Could not find the Qt platform plugin \"wayland\" in \"/home/dododoyo/Documents/ML/.venv/lib/python3.10/site-packages/cv2/qt/plugins\"\n"
     ]
    }
   ],
   "source": [
    "camera = cv.VideoCapture(0)\n",
    "ret,frame = camera.read()\n",
    "\n",
    "face_cascade = cv.CascadeClassifier('../../data/Files/DATA/haarcascades/haarcascade_frontalface_default.xml')\n",
    "\n",
    "# returns all the numpy arrays where it is detecting a face \n",
    "face_rectangles = face_cascade.detectMultiScale(frame)\n",
    "\n",
    "# detect only one face \n",
    "face_window = tuple(face_rectangles[0])\n",
    "\n",
    "(face_x,face_y,w,h) = face_window\n",
    "\n",
    "region_of_interest = frame[face_y:face_y+h,face_x:face_x+w]\n",
    "hsv_roi = cv.cvtColor(region_of_interest,cv.COLOR_BGR2HSV)\n",
    "\n",
    "ROI_hist = cv.calcHist([hsv_roi],[0],None,[180],[0,180])\n",
    "\n",
    "cv.normalize(ROI_hist,ROI_hist,0,255,cv.NORM_MINMAX)\n",
    "\n",
    "\n",
    "TERMINATION_CRITERIA = (cv.TERM_CRITERIA_EPS | cv.TERM_CRITERIA_COUNT,10,1)\n",
    "\n",
    "while True:\n",
    "  ret,frame = camera.read()\n",
    "\n",
    "  if ret:\n",
    "    hsv = cv.cvtColor(frame,cv.COLOR_BGR2HSV)\n",
    "    dst = cv.calcBackProject([hsv],[0],ROI_hist,[0,180],1)\n",
    "\n",
    "    ret,face_window = cv.meanShift(dst,face_window,TERMINATION_CRITERIA)\n",
    "\n",
    "    x,y,w,h = face_window\n",
    "    image_2 = cv.rectangle(img=frame,pt1=(x,y),pt2=(x+w,y+h),color=(0,0,255),thickness=5)\n",
    "\n",
    "\n",
    "    cv.imshow(\"Image\",image_2)\n",
    "    k = cv.waitKey(1) & 0xFF\n",
    "\n",
    "    if k == 27:\n",
    "      break\n",
    "\n",
    "  else:\n",
    "    break\n",
    "\n",
    "cv.destroyAllWindows()\n",
    "camera.release()\n"
   ]
  }
 ],
 "metadata": {
  "kernelspec": {
   "display_name": ".venv",
   "language": "python",
   "name": "python3"
  },
  "language_info": {
   "codemirror_mode": {
    "name": "ipython",
    "version": 3
   },
   "file_extension": ".py",
   "mimetype": "text/x-python",
   "name": "python",
   "nbconvert_exporter": "python",
   "pygments_lexer": "ipython3",
   "version": "3.10.12"
  }
 },
 "nbformat": 4,
 "nbformat_minor": 2
}
