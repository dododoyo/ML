{
 "cells": [
  {
   "cell_type": "code",
   "execution_count": 16,
   "metadata": {},
   "outputs": [],
   "source": [
    "import cv2 as cv\n",
    "import numpy as np"
   ]
  },
  {
   "cell_type": "code",
   "execution_count": null,
   "metadata": {},
   "outputs": [],
   "source": [
    "camera = cv.VideoCapture(0)\n",
    "ret, frame = camera.read()\n",
    "\n",
    "face_cascade = cv.CascadeClassifier(\n",
    "    '../../data/Files/DATA/haarcascades/haarcascade_frontalface_default.xml')\n",
    "\n",
    "# returns all the numpy arrays where it is detecting a face\n",
    "face_rectangles = face_cascade.detectMultiScale(frame)\n",
    "\n",
    "\n",
    "if len(face_rectangles):\n",
    "    \n",
    "  # detect only one face\n",
    "  face_window = tuple(face_rectangles[0])\n",
    "\n",
    "  (face_x, face_y, w, h) = face_window\n",
    "\n",
    "  region_of_interest = frame[face_y:face_y+h, face_x:face_x+w]\n",
    "  hsv_roi = cv.cvtColor(region_of_interest, cv.COLOR_BGR2HSV)\n",
    "\n",
    "  ROI_hist = cv.calcHist([hsv_roi], [0], None, [180], [0, 180])\n",
    "\n",
    "  cv.normalize(ROI_hist, ROI_hist, 0, 255, cv.NORM_MINMAX)\n",
    "\n",
    "\n",
    "  TERMINATION_CRITERIA = (cv.TERM_CRITERIA_EPS | cv.TERM_CRITERIA_COUNT, 10, 1)\n",
    "\n",
    "  while True:\n",
    "    ret, frame = camera.read()\n",
    "\n",
    "    if ret:\n",
    "      hsv = cv.cvtColor(frame, cv.COLOR_BGR2HSV)\n",
    "      dst = cv.calcBackProject([hsv], [0], ROI_hist, [0, 180], 1)\n",
    "\n",
    "      ###########################################\n",
    "      ret, face_window = cv.CamShift(dst, face_window, TERMINATION_CRITERIA)\n",
    "\n",
    "      new_box = cv.boxPoints(ret)\n",
    "      # convert to integer\n",
    "      new_box = np.int64(new_box)\n",
    "\n",
    "      image_2 = cv.polylines(frame, [new_box],True, (0, 0, 255),5)\n",
    "      ###########################################\n",
    "\n",
    "      cv.imshow(\"Image\", image_2)\n",
    "      k = cv.waitKey(1) & 0xFF\n",
    "\n",
    "      if k == 27:\n",
    "        break\n",
    "\n",
    "    else:\n",
    "      break\n",
    "else:\n",
    "  print(\"No Face Detected\")\n",
    "\n",
    "cv.destroyAllWindows()\n",
    "camera.release()"
   ]
  }
 ],
 "metadata": {
  "kernelspec": {
   "display_name": ".venv",
   "language": "python",
   "name": "python3"
  },
  "language_info": {
   "codemirror_mode": {
    "name": "ipython",
    "version": 3
   },
   "file_extension": ".py",
   "mimetype": "text/x-python",
   "name": "python",
   "nbconvert_exporter": "python",
   "pygments_lexer": "ipython3",
   "version": "3.10.12"
  }
 },
 "nbformat": 4,
 "nbformat_minor": 2
}
