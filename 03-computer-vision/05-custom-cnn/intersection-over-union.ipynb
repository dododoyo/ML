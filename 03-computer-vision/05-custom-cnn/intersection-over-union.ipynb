{
 "cells": [
  {
   "cell_type": "markdown",
   "metadata": {},
   "source": [
    "In computer vision, Intersection over Union (IoU) is a metric used to evaluate the accuracy of an object detector on a particular dataset. It is a measure of the overlap between two bounding boxes: the predicted bounding box and the ground truth bounding box.\n",
    "\n",
    "The IoU is calculated as follows:\n",
    "\n",
    "  > IoU = Intersection/Union\n",
    "\n",
    "- **Area of Intersect**: The area where the predicted bounding box and the ground truth bounding box intersect.\n",
    "- **Area of Union**: The total area covered by both the predicted bounding box and the ground truth bounding box.\n",
    "\n",
    "IoU values range from 0 to 1, where:\n",
    "- An IoU of 0 means there is no overlap between the predicted and ground truth bounding boxes.\n",
    "- An IoU of 1 means the predicted and ground truth bounding boxes perfectly overlap.\n",
    "\n",
    "IoU is commonly used in tasks like object detection to determine how well the predicted bounding boxes match the actual objects in the image. A higher IoU indicates a better prediction.\n"
   ]
  },
  {
   "cell_type": "markdown",
   "metadata": {},
   "source": [
    "If we have points \n",
    "\n",
    "Ground-Truth-Box => box1 =  [x1,y1,x2,y2]\n",
    "Detected-Box => box2 = [x1,y1,x2,y2]\n",
    "\n",
    "- Assume top-left of image is origin\n",
    "\n",
    "(box1.x1,box1.y1) => top-left of predicted box\n",
    "(box1.x2,box1.y2) => bottom-right of pridicted box\n",
    "\n",
    "(box2.x1,box2.y1) => top-left of ground-truth box\n",
    "(box2.x2,box2.y2) => bottom-right of ground-truth box\n",
    "\n",
    "ix1 = max(box1.x1,box2.x1)\n",
    "iy1 = max(box1.y1,box2.y1)\n",
    "\n",
    "ix2 = min(box1.x2,box2.x2)\n",
    "iy2 = min(box1.y2,box2.y2)\n",
    "\n",
    "Intersection-Box => box3 = [ix1,iy1,ix2,iy2]\n",
    "\n",
    "Area-of-Intersection = abs(iy2-iy1) * abs(ix2-ix1)\n",
    "Area-of-Union = Area(GTB) + Area(DTB) - Area-of-Intersection"
   ]
  },
  {
   "cell_type": "markdown",
   "metadata": {},
   "source": [
    "## Implementation"
   ]
  },
  {
   "cell_type": "code",
   "execution_count": null,
   "metadata": {},
   "outputs": [],
   "source": [
    "import torch\n",
    "\n",
    "def intersection_over_union(predictions,labels,format):\n",
    "  '''\n",
    "  Calculates intersection over union \n",
    "  \n",
    "  Parameters:\n",
    "    predictions: predictions of bounding boxes\n",
    "    lables: correct labels of boxes\n",
    "    format: midpoint/corners (x,y,w,h) or (x1,y1,x2,y2)\n",
    "  '''\n",
    "\n",
    "  if format == \"midpoint\":\n",
    "      box1_x1 = predictions[..., 0:1] - predictions[..., 2:3] / 2\n",
    "      box1_y1 = predictions[..., 1:2] - predictions[..., 3:4] / 2\n",
    "      box1_x2 = predictions[..., 0:1] + predictions[..., 2:3] / 2\n",
    "      box1_y2 = predictions[..., 1:2] + predictions[..., 3:4] / 2\n",
    "      box2_x1 = labels[..., 0:1] - labels[..., 2:3] / 2\n",
    "      box2_y1 = labels[..., 1:2] - labels[..., 3:4] / 2\n",
    "      box2_x2 = labels[..., 0:1] + labels[..., 2:3] / 2\n",
    "      box2_y2 = labels[..., 1:2] + labels[..., 3:4] / 2\n",
    "\n",
    "  elif format == \"corners\":\n",
    "      box1_x1 = predictions[..., 0:1]\n",
    "      box1_y1 = predictions[..., 1:2]\n",
    "      box1_x2 = predictions[..., 2:3]\n",
    "      box1_y2 = predictions[..., 3:4]\n",
    "      box2_x1 = labels[..., 0:1]\n",
    "      box2_y1 = labels[..., 1:2]\n",
    "      box2_x2 = labels[..., 2:3]\n",
    "      box2_y2 = labels[..., 3:4]\n",
    "\n",
    "  x1 = torch.max(box1_x1, box2_x1)\n",
    "  y1 = torch.max(box1_y1, box2_y1)\n",
    "  x2 = torch.min(box1_x2, box2_x2)\n",
    "  y2 = torch.min(box1_y2, box2_y2)\n",
    "\n",
    "  # clamp(0) for boxes with no intersection  \n",
    "  intersection = (x2 - x1).clamp(0) * (y2 - y1).clamp(0)\n",
    "  box1_area = abs((box1_x2 - box1_x1) * (box1_y2 - box1_y1))\n",
    "  box2_area = abs((box2_x2 - box2_x1) * (box2_y2 - box2_y1))\n",
    "\n",
    "  return intersection / (box1_area + box2_area - intersection + 1e-6)"
   ]
  }
 ],
 "metadata": {
  "kernelspec": {
   "display_name": ".venv",
   "language": "python",
   "name": "python3"
  },
  "language_info": {
   "codemirror_mode": {
    "name": "ipython",
    "version": 3
   },
   "file_extension": ".py",
   "mimetype": "text/x-python",
   "name": "python",
   "nbconvert_exporter": "python",
   "pygments_lexer": "ipython3",
   "version": "3.10.12"
  }
 },
 "nbformat": 4,
 "nbformat_minor": 2
}
