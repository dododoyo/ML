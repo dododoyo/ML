{
 "cells": [
  {
   "cell_type": "markdown",
   "metadata": {},
   "source": [
    "### What is Non-Maximum Suppression?\n",
    "\n",
    "Non-Maximum Suppression is a technique used to select the most appropriate bounding boxes and remove overlapping duplicates in object detection tasks. It's particularly important when a model detects multiple bounding boxes for the same object.\n",
    "\n",
    "### How NMS Works\n",
    "\n",
    "1. **Input**:\n",
    "   - A list of detected bounding boxes for the same box.\n",
    "   - Corresponding confidence scores for each box.\n",
    "   - An IoU (Intersection over Union) threshold"
   ]
  },
  {
   "cell_type": "markdown",
   "metadata": {},
   "source": [
    "### Process"
   ]
  },
  {
   "cell_type": "code",
   "execution_count": null,
   "metadata": {},
   "outputs": [],
   "source": [
    "import torch\n",
    "\n",
    "def intersection_over_union(predictions,labels,format):\n",
    "    '''\n",
    "    Calculates intersection over union \n",
    "\n",
    "    Parameters:\n",
    "    predictions: predictions of bounding boxes\n",
    "    lables: correct labels of boxes\n",
    "    format: midpoint/corners (x,y,w,h) or (x1,y1,x2,y2)\n",
    "    '''\n",
    "\n",
    "    if format == \"midpoint\":\n",
    "        box1_x1 = predictions[..., 0:1] - predictions[..., 2:3] / 2\n",
    "        box1_y1 = predictions[..., 1:2] - predictions[..., 3:4] / 2\n",
    "        box1_x2 = predictions[..., 0:1] + predictions[..., 2:3] / 2\n",
    "        box1_y2 = predictions[..., 1:2] + predictions[..., 3:4] / 2\n",
    "        box2_x1 = labels[..., 0:1] - labels[..., 2:3] / 2\n",
    "        box2_y1 = labels[..., 1:2] - labels[..., 3:4] / 2\n",
    "        box2_x2 = labels[..., 0:1] + labels[..., 2:3] / 2\n",
    "        box2_y2 = labels[..., 1:2] + labels[..., 3:4] / 2\n",
    "\n",
    "    elif format == \"corners\":\n",
    "        box1_x1 = predictions[..., 0:1]\n",
    "        box1_y1 = predictions[..., 1:2]\n",
    "        box1_x2 = predictions[..., 2:3]\n",
    "        box1_y2 = predictions[..., 3:4]\n",
    "        box2_x1 = labels[..., 0:1]\n",
    "        box2_y1 = labels[..., 1:2]\n",
    "        box2_x2 = labels[..., 2:3]\n",
    "        box2_y2 = labels[..., 3:4]\n",
    "\n",
    "    x1 = torch.max(box1_x1, box2_x1)\n",
    "    y1 = torch.max(box1_y1, box2_y1)\n",
    "    x2 = torch.min(box1_x2, box2_x2)\n",
    "    y2 = torch.min(box1_y2, box2_y2)\n",
    "\n",
    "    # clamp(0) for boxes with no intersection  \n",
    "    intersection = (x2 - x1).clamp(0) * (y2 - y1).clamp(0)\n",
    "    box1_area = abs((box1_x2 - box1_x1) * (box1_y2 - box1_y1))\n",
    "    box2_area = abs((box2_x2 - box2_x1) * (box2_y2 - box2_y1))\n",
    "\n",
    "    return intersection / (box1_area + box2_area - intersection + 1e-6)\n",
    "\n",
    "def nms(bboxes, iou_threshold, threshold, box_format=\"corners\"):\n",
    "    \"\"\"\n",
    "    Does Non Max Suppression given bboxes\n",
    "\n",
    "    Parameters:\n",
    "        bboxes (list): list of lists containing all bboxes with each bboxes\n",
    "        specified as [class_pred, prob_score, x1, y1, x2, y2]\n",
    "        iou_threshold (float): threshold where predicted bboxes is correct\n",
    "        threshold (float): threshold to remove predicted bboxes (independent of IoU) \n",
    "        box_format (str): \"midpoint\" or \"corners\" used to specify bboxes\n",
    "\n",
    "    Returns:\n",
    "        list: bboxes after performing NMS given a specific IoU threshold\n",
    "    \"\"\"\n",
    "\n",
    "    assert type(bboxes) == list\n",
    "\n",
    "    bboxes = [box for box in bboxes if box[1] > threshold]\n",
    "    bboxes = sorted(bboxes, key=lambda x: x[1], reverse=True)\n",
    "    bboxes_after_nms = []\n",
    "\n",
    "    while bboxes:\n",
    "        chosen_box = bboxes.pop(0)\n",
    "\n",
    "        bboxes = [\n",
    "            box\n",
    "            for box in bboxes\n",
    "            if box[0] != chosen_box[0]\n",
    "            or intersection_over_union(\n",
    "                torch.tensor(chosen_box[2:]),\n",
    "                torch.tensor(box[2:]),\n",
    "                box_format=box_format,\n",
    "            )\n",
    "            < iou_threshold\n",
    "        ]\n",
    "\n",
    "        bboxes_after_nms.append(chosen_box)\n",
    "\n",
    "    return bboxes_after_nms"
   ]
  },
  {
   "cell_type": "markdown",
   "metadata": {
    "vscode": {
     "languageId": "plaintext"
    }
   },
   "source": [
    "3. **Steps**:\n",
    "   - Sort all bounding boxes by their confidence scores (highest to lowest)\n",
    "   - Select the box with the highest score\n",
    "   - Compare this box with all remaining boxes using IoU\n",
    "   - Remove boxes that overlap with the selected box above the IoU threshold\n",
    "   - Repeat the process with the remaining boxes\n"
   ]
  },
  {
   "cell_type": "markdown",
   "metadata": {},
   "source": [
    "\n",
    "This code shows how NMS principles are applied in practice, where multiple detections of the same license plate are handled to avoid redundant detections.\n",
    "\n",
    "### Benefits of NMS\n",
    "\n",
    "1. **Reduces Redundancy**: Eliminates multiple detections of the same object\n",
    "2. **Improves Accuracy**: Keeps the most confident detection for each object\n",
    "3. **Cleaner Output**: Produces cleaner, more interpretable results\n",
    "4. **Computational Efficiency**: Reduces the number of boxes that need to be processed downstream"
   ]
  }
 ],
 "metadata": {
  "kernelspec": {
   "display_name": ".venv",
   "language": "python",
   "name": "python3"
  },
  "language_info": {
   "name": "python",
   "version": "3.10.12"
  }
 },
 "nbformat": 4,
 "nbformat_minor": 2
}
